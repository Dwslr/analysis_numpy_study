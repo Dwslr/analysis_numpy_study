{
 "cells": [
  {
   "cell_type": "markdown",
   "metadata": {},
   "source": [
    "Numpy. ДЗ 1: Поиск аргумента максимума\n",
    "Легкая\n",
    "\n",
    "Вам дается массив arr произвольной размерности x*y (то есть x столбцов, y строк).\n",
    "\n",
    "Необходимо вернуть массив Numpy, который содержит индексы макисмальных элементов в каждой строке.\n",
    "\n",
    "Задание\n",
    "Напишите функцию FindArgMax, которая будет возвращать массив, состоящий из индексов максимальных элементов в каждой строке.\n",
    "\n",
    "Функция FindArgMax принимает на вход массив arr.\n",
    "\n",
    "Функция должна возвращать массив с индексами."
   ]
  },
  {
   "cell_type": "code",
   "execution_count": 5,
   "metadata": {},
   "outputs": [],
   "source": [
    "import numpy as np"
   ]
  },
  {
   "cell_type": "code",
   "execution_count": 6,
   "metadata": {},
   "outputs": [
    {
     "name": "stdout",
     "output_type": "stream",
     "text": [
      "[0 3 1]\n"
     ]
    }
   ],
   "source": [
    "class Answer:\n",
    "    def FindArgMax(self, arr):\n",
    "        res = np.argmax(arr, axis=1)\n",
    "\n",
    "        return res\n",
    "\n",
    "\n",
    "arr = np.array([[100, 2, 3, 4], [1, 2, 3, 4], [1, 200, 3, 4]])\n",
    "print(Answer().FindArgMax(arr))\n",
    "# Ответ: [0 3 1]"
   ]
  },
  {
   "cell_type": "markdown",
   "metadata": {},
   "source": [
    "Numpy. ДЗ 2: Создание интервала и расширение размерности\n",
    "Нормальная\n",
    "\n",
    "Вам заданы три числа:\n",
    "\n",
    "start\n",
    "stop\n",
    "step\n",
    "Значения всех трех чисел вам заранее неизвестны.\n",
    "\n",
    "Для начала, необходимо составить последовательность равномерно распределенных чисел в диапазоне start:stop с шагом step. Последовательность должна быть представлена массивом Numpy.\n",
    "\n",
    "Далее, вы собираетесь подавать эту последовательность на вход нейронной сети. Основное требование сети: входной массив данных должен иметь размерность (observations, size), где:\n",
    "\n",
    "observations - количество наблюдений (в нашем случае 1, т.к. мы сгенерировали всего 1 последовательность)\n",
    "size - количество чисел в сгенерированной последовательности\n",
    "Трансформируйте полученную последовательность таким образом, чтобы она имело нужную размерность.\n",
    "\n",
    "Важно: Не используйте функцию reshape - воспользуйтесь другими методами Numpy.\n",
    "\n",
    "Задание\n",
    "Напишите функцию AddDim, которая будет возвращать сгенерированную последовательность с добавленным единичным измерением.\n",
    "\n",
    "Функция AddDim принимает на вход числа start, stop, step.\n",
    "\n",
    "Функция должна возвращать результирующий массив."
   ]
  },
  {
   "cell_type": "code",
   "execution_count": 266,
   "metadata": {},
   "outputs": [
    {
     "name": "stdout",
     "output_type": "stream",
     "text": [
      "[[1 3 5 7 9]]\n",
      "[[10  8  6  4  2]]\n",
      "[[-10  -8  -6  -4  -2]]\n",
      "[[-1 -3 -5 -7 -9]]\n",
      "[[-10  -8  -6  -4  -2   0   2   4   6   8]]\n",
      "[[10  8  6  4  2  0 -2 -4 -6 -8]]\n"
     ]
    }
   ],
   "source": [
    "import numpy as np\n",
    "\n",
    "\n",
    "class Answer:\n",
    "    def AddDim(self, start, stop, step):\n",
    "        k = 1 if start <= stop else -1\n",
    "\n",
    "        res1 = np.arange(start, stop, step * k)\n",
    "\n",
    "        res = np.expand_dims(res1, axis=0)\n",
    "\n",
    "        return res  # , res.shape\n",
    "\n",
    "\n",
    "start, stop, step = 1, 10, 2\n",
    "print(Answer().AddDim(start, stop, step))\n",
    "# Ответ:    [[1 3 5 7 9]]\n",
    "start, stop, step = 10, 1, 2\n",
    "print(Answer().AddDim(start, stop, step))\n",
    "start, stop, step = -10, -1, 2\n",
    "print(Answer().AddDim(start, stop, step))\n",
    "start, stop, step = -1, -10, 2\n",
    "print(Answer().AddDim(start, stop, step))\n",
    "start, stop, step = -10, 10, 2\n",
    "print(Answer().AddDim(start, stop, step))\n",
    "start, stop, step = 10, -10, 2\n",
    "print(Answer().AddDim(start, stop, step))"
   ]
  },
  {
   "cell_type": "markdown",
   "metadata": {},
   "source": [
    "Numpy. ДЗ 1: Контроль температуры\n",
    "Легкая\n",
    "\n",
    "У вас есть данные о температуре в разных городах.\n",
    "\n",
    "Напишите функцию filter_cities_by_temperature, которая принимает на вход два списка одинаковой длины: temperatures и cities и значение threshold_temp.\n",
    "\n",
    "Функция должна вернуть список городов, в которых температура превышает определенное значение (threshold_temp)."
   ]
  },
  {
   "cell_type": "code",
   "execution_count": 267,
   "metadata": {},
   "outputs": [
    {
     "name": "stdout",
     "output_type": "stream",
     "text": [
      "['Город Б' 'Город В' 'Город Е' 'Город Ж']\n"
     ]
    }
   ],
   "source": [
    "import numpy as np\n",
    "\n",
    "\n",
    "def filter_cities_by_temperature(temperatures, cities, threshold_temp):\n",
    "    temperatures = np.array(temperatures)\n",
    "    cities = np.array(cities)\n",
    "    # Find indices of cities exceeding the threshold\n",
    "    valid_indices = np.where(temperatures > threshold_temp)\n",
    "    # print(valid_indices)\n",
    "\n",
    "    # Filter city names based on the valid indices\n",
    "    res = cities[valid_indices]\n",
    "\n",
    "    return res\n",
    "\n",
    "\n",
    "temperatures = [25.2, 28.5, 30.1, 23.8, 27.0, 29.5, 31.2]\n",
    "cities = [\"Город А\", \"Город Б\", \"Город В\", \"Город Г\", \"Город Д\", \"Город Е\", \"Город Ж\"]\n",
    "print(filter_cities_by_temperature(temperatures, cities, 28.0))\n",
    "# ['Город Б', 'Город В', 'Город Е', 'Город Ж']"
   ]
  },
  {
   "cell_type": "code",
   "execution_count": 268,
   "metadata": {},
   "outputs": [
    {
     "name": "stdout",
     "output_type": "stream",
     "text": [
      "['Город Б', 'Город В', 'Город Е', 'Город Ж']\n"
     ]
    }
   ],
   "source": [
    "def filter_cities_by_temperature(temperatures, cities, threshold_temp):\n",
    "    zipped = list(zip(cities, temperatures))\n",
    "    return [city for city, temp in zipped if temp > threshold_temp]\n",
    "\n",
    "\n",
    "temperatures = [25.2, 28.5, 30.1, 23.8, 27.0, 29.5, 31.2]\n",
    "cities = [\"Город А\", \"Город Б\", \"Город В\", \"Город Г\", \"Город Д\", \"Город Е\", \"Город Ж\"]\n",
    "print(filter_cities_by_temperature(temperatures, cities, 28.0))\n",
    "# ['Город Б', 'Город В', 'Город Е', 'Город Ж']"
   ]
  },
  {
   "cell_type": "markdown",
   "metadata": {},
   "source": [
    "Numpy. ДЗ 2: Конкатенация и очистка массивов\n",
    "Нормальная\n",
    "\n",
    "Вам на вход подаются 2 матрицы Numpy A и B произвольного размера.\n",
    "\n",
    "Заранее вам не известно, но матрицы могут быть «грязными» - там могут присутствовать лишние размерности.\n",
    "\n",
    "Например:\n",
    "\n",
    "Исходная размерность: (1, 2, 1, 2, 2)\n",
    "Должна быть: (2, 2, 2)\n",
    "Соответственно, первая задача - очистить матрицы от единичных размерностей.\n",
    "\n",
    "Далее необходимо объединить матрицы «вертикально».\n",
    "\n",
    "Примечание: Допустим, что нам заранее известно, что размерности очищенных матриц допускают такое объединение.\n",
    "\n",
    "Задание\n",
    "Напишите функцию CombineMatrix, которая будет возвращать объединенные матрицы после очистки.\n",
    "\n",
    "Функция CombineMatrix принимает на вход матрицы A, B.\n",
    "\n",
    "Функция должна возвращать результирующий массив."
   ]
  },
  {
   "cell_type": "code",
   "execution_count": 269,
   "metadata": {},
   "outputs": [
    {
     "name": "stdout",
     "output_type": "stream",
     "text": [
      "[[ 1  2  3  4  5]\n",
      " [ 6  7  8  9 10]\n",
      " [ 1  3  5  7  9]\n",
      " [ 2  4  6  8 10]]\n",
      "[1 2 1 2 2 2 2 2]\n",
      "[1 2 1 2 2 2 1 1 2 2]\n"
     ]
    }
   ],
   "source": [
    "import numpy as np\n",
    "\n",
    "\n",
    "def CombineMatrix(A: np.ndarray, B: np.ndarray):\n",
    "    A, B = A.squeeze(), B.squeeze()\n",
    "    res = np.concatenate((A, B), axis=0)\n",
    "    return res\n",
    "\n",
    "\n",
    "# A = np.array([[ 1  2  3  4  5]\n",
    "#  [ 6  7  8  9 10]])\n",
    "A = np.arange(1, 11).reshape(2, -1)\n",
    "# B = [[ 1  3  5  7  9]\n",
    "#  [ 2  4  6  8 10]]\n",
    "odd_numbers = np.arange(1, 10, 2)\n",
    "even_numbers = np.arange(2, 11, 2)\n",
    "B = np.vstack((odd_numbers, even_numbers))\n",
    "print(CombineMatrix(A, B))\n",
    "# Результат\n",
    "# [[ 1  2  3  4  5]\n",
    "#  [ 6  7  8  9 10]\n",
    "#  [ 1  3  5  7  9]\n",
    "#  [ 2  4  6  8 10]]\n",
    "\n",
    "A = np.array([1, 2, 1, 2, 2])\n",
    "B = np.array([2, 2, 2])\n",
    "print(CombineMatrix(A, B))\n",
    "# [[[1 2]\n",
    "#   [1 2]]\n",
    "#  [[1 2]\n",
    "#   [1 2]]\n",
    "#  [[1 2]\n",
    "#   [1 2]]\n",
    "#  [[1 2]\n",
    "#   [1 2]]]\n",
    "\n",
    "A = np.array([1, 2, 1, 2, 2])\n",
    "B = np.array([2, 1, 1, 2, 2])\n",
    "print(CombineMatrix(A, B))\n",
    "# [[[1 2]\n",
    "#   [1 2]]\n",
    "#  [[1 2]\n",
    "#   [1 2]]\n",
    "#  [[1 2]\n",
    "#   [1 2]]\n",
    "#  [[1 2]\n",
    "#   [1 2]]]"
   ]
  },
  {
   "cell_type": "markdown",
   "metadata": {},
   "source": [
    "Numpy. ДЗ 1: Кумулятивная сумма\n",
    "Легкая\n",
    "\n",
    "Вам дается массив arr произвольной размерности x*y (то есть x столбцов, y строк).\n",
    "\n",
    "Необходимо вернуть массив Numpy той же формы, но в котором вместо исходных значений содержится рассчитанный накопительный итог по каждому столбцу.\n",
    "\n",
    "Задание\n",
    "Напишите функцию CalcCumSum, которая будет возвращать рассчитанный нарастающий итог по каждому столбцу.\n",
    "\n",
    "Функция CalcCumSum принимает на вход массив arr.\n",
    "\n",
    "Функция должна возвращать результирующий массив."
   ]
  },
  {
   "cell_type": "code",
   "execution_count": 270,
   "metadata": {},
   "outputs": [
    {
     "name": "stdout",
     "output_type": "stream",
     "text": [
      "[[100   2   3   4]\n",
      " [101   4   6   8]\n",
      " [102 204   9  12]]\n"
     ]
    }
   ],
   "source": [
    "class Answer:\n",
    "    def CalcCumSum(self, arr):\n",
    "        res = np.cumsum(arr, axis=0)\n",
    "        return res\n",
    "\n",
    "\n",
    "arr = np.array([[100, 2, 3, 4], [1, 2, 3, 4], [1, 200, 3, 4]])\n",
    "print(Answer().CalcCumSum(arr))\n",
    "# Ответ:\n",
    "# [[100   2   3   4]\n",
    "#  [101   4   6   8]\n",
    "#  [102 204   9  12]]"
   ]
  },
  {
   "cell_type": "markdown",
   "metadata": {},
   "source": [
    "Numpy. ДЗ 2: Среднее значение и медиана\n",
    "Легкая\n",
    "\n",
    "У вас есть массив данных hours_of_sleep, содержащий информацию о продолжительности сна разных людей в часах.\n",
    "\n",
    "Напишите функцию calculate_mean_and_median, которая принимает массив и возвращает два значения: среднее и медиану этого массива."
   ]
  },
  {
   "cell_type": "code",
   "execution_count": 271,
   "metadata": {},
   "outputs": [
    {
     "name": "stdout",
     "output_type": "stream",
     "text": [
      "(7.0, 7.0)\n"
     ]
    }
   ],
   "source": [
    "import numpy as np\n",
    "\n",
    "\n",
    "def calculate_mean_and_median(arr):\n",
    "    return np.average(arr), np.median(arr)\n",
    "\n",
    "\n",
    "hours_of_sleep = np.array([7, 6, 8, 7, 9, 5, 6, 7, 8, 7])\n",
    "print(calculate_mean_and_median(hours_of_sleep))\n",
    "# (7.0, 7.0)"
   ]
  },
  {
   "cell_type": "markdown",
   "metadata": {},
   "source": [
    "Numpy. ДЗ 2: Дисперсия и стандартное отклонение\n",
    "Легкая\n",
    "\n",
    "У вас есть массив данных sales_per_week, содержащий информацию о количестве проданных товаров за неделю в разных магазинах.\n",
    "\n",
    "Напишите функцию calculate_variance_and_stddev, которая принимает этот массив и возвращает дисперсию и стандартное отклонение, округленные до 2 знаков после запятой."
   ]
  },
  {
   "cell_type": "code",
   "execution_count": 272,
   "metadata": {},
   "outputs": [
    {
     "name": "stdout",
     "output_type": "stream",
     "text": [
      "(216.0, 14.7)\n"
     ]
    }
   ],
   "source": [
    "import numpy as np\n",
    "\n",
    "\n",
    "def calculate_variance_and_stddev(arr):\n",
    "    return round(np.var(arr), 2), round(np.std(arr), 2)\n",
    "\n",
    "\n",
    "sales_per_week = np.array([100, 120, 90, 110, 80, 130, 100, 90, 95, 115])\n",
    "print(calculate_variance_and_stddev(sales_per_week))\n",
    "# (216.0, 14.7)"
   ]
  },
  {
   "cell_type": "markdown",
   "metadata": {},
   "source": [
    "Numpy. ДЗ 1: Статистическая обработка массива\n",
    "Легкая\n",
    "\n",
    "Вам дается массив arr произвольной размерности. Также задан параметр type, который указывает, как производить статистическую обработку:\n",
    "\n",
    "colwise - по столбцам\n",
    "rowwise - по строкам\n",
    "Необходимо рассчитать основные статистические характеристики с учетом параметра type.\n",
    "\n",
    "Задание\n",
    "Напишите функцию CalsStatistics, которая будет рассчитывать основные статистические характеристики:\n",
    "\n",
    "среднее значение\n",
    "дисперсию\n",
    "стандартное отклонение\n",
    "сумму\n",
    "Если параметр type равен colwise, то расчет нужно производить по столбцам.\n",
    "Если параметр type равен rowwise, то расчет нужно производить по строкам.\n",
    "\n",
    "Функция CalsStatistics принимает на вход:\n",
    "\n",
    "arr - произвольный массив Numpy\n",
    "type - тип расчета (по строкам или по столбцам)\n",
    "Функция должна возвращать рассчитанные характеристики:\n",
    "\n",
    "среднее значение\n",
    "дисперсию\n",
    "стандартное отклонение\n",
    "сумму"
   ]
  },
  {
   "cell_type": "code",
   "execution_count": 273,
   "metadata": {},
   "outputs": [
    {
     "name": "stdout",
     "output_type": "stream",
     "text": [
      "(array([1.00, 2.00, 3.00, 4.00]), array([0.00, 0.00, 0.00, 0.00]), array([0.00, 0.00, 0.00, 0.00]), array([ 3,  6,  9, 12]))\n",
      "(array([2.50, 2.50, 2.50]), array([1.25, 1.25, 1.25]), array([1.12, 1.12, 1.12]), array([10, 10, 10]))\n"
     ]
    }
   ],
   "source": [
    "import numpy as np\n",
    "\n",
    "\n",
    "class Answer:\n",
    "    def CalsStatistics(self, arr, type):\n",
    "        k = 0 if type == \"colwise\" else 1\n",
    "\n",
    "        return (\n",
    "            np.mean(arr, axis=(k)),\n",
    "            np.var(arr, axis=(k)),\n",
    "            np.std(arr, axis=(k)),\n",
    "            np.sum(arr, axis=(k)),\n",
    "        )\n",
    "\n",
    "\n",
    "# Пример для суммы:\n",
    "arr = np.array([[1, 2, 3, 4], [1, 2, 3, 4], [1, 2, 3, 4]])\n",
    "type = \"colwise\"\n",
    "print(Answer().CalsStatistics(arr, type))\n",
    "# Ответ: [ 3  6  9 12]\n",
    "\n",
    "# Пример для суммы:\n",
    "arr = np.array([[1, 2, 3, 4], [1, 2, 3, 4], [1, 2, 3, 4]])\n",
    "type = \"rowwise\"\n",
    "# Ответ: [10 10 10]\n",
    "\n",
    "# Пример:\n",
    "arr = np.array([[1, 2, 3, 4], [1, 2, 3, 4], [1, 2, 3, 4]])\n",
    "type = \"rowwise\"\n",
    "print(Answer().CalsStatistics(arr, type))\n",
    "# Ответ:\n",
    "# среднее: array([2.5, 2.5, 2.5])\n",
    "# дисперсия: array([1.25, 1.25, 1.25])\n",
    "# ст. отклонение: array([1.11803399, 1.11803399, 1.11803399])\n",
    "# сумма: array([10, 10, 10])"
   ]
  },
  {
   "cell_type": "markdown",
   "metadata": {},
   "source": [
    "Numpy. ДЗ 2: Множественные преобразования матриц\n",
    "Нормальная\n",
    "\n",
    "Вам даны 2 матрицы произвольного размера - A и B. Форма и размер матриц вам заранее неизвестны.\n",
    "\n",
    "Прежде чем делать какие-то совместные операции над этими матрицами, вам нужно их подготовить. А именно, привести к форме, которая позволит эти операции делать:\n",
    "\n",
    "Матрица A должна иметь размерность Z*2 (где Z количество строк, а 2 - столбцов)\n",
    "Матрица B должна иметь размерность 2*Y (где 2 количество строк, а Y - столбцов)\n",
    "Примечание: Числа Z и Y вам неизвестны - они зависят от исходной размерности матриц A и B. Однако, вы точно знаете, что из A и B можно сделать матрицы указанной размерности, правильно подобрав числа Z и Y.\n",
    "\n",
    "Примечание: Если число столбцов в первой матрице равно числу строк во второй, то такое умножение допустимо. Именно для этого мы и производим обработку в предыдущем пункте.\n",
    "\n",
    "После этого вы должны выполнить следующие совместные преобразования:\n",
    "\n",
    "Создайте единичную матрицу той же размерности, что и B\n",
    "Почленно сложите результат п.1 и B\n",
    "Умножьте матрицу A на результат п. 2 (матрично)\n",
    "Транспонируйте полученную в п. 3 матрицу\n",
    "Умножьте каждый член матрицы из п. 4 на 100\n",
    "\n",
    "Задание\n",
    "Напишите функцию TransformMatrix, которая будет возвращать результат всех преобразований, описанных выше.\n",
    "Функция TransformMatrix принимает на вход матрицы A и B, представленные в виде массивов Numpy.\n",
    "Функция должна возвращать результирующий массив."
   ]
  },
  {
   "cell_type": "code",
   "execution_count": 274,
   "metadata": {},
   "outputs": [
    {
     "name": "stdout",
     "output_type": "stream",
     "text": [
      "[[ 600 1400 1400  600 2200 3000 3600 3600]\n",
      " [ 900 2100 2100  900 3300 4500 5400 5400]\n",
      " [1200 2800 2800 1200 4400 6000 7200 7200]\n",
      " [ 600 1400 1400  600 2200 3000 3600 3600]\n",
      " [ 900 2100 2100  900 3300 4500 5400 5400]\n",
      " [1200 2800 2800 1200 4400 6000 7200 7200]]\n"
     ]
    }
   ],
   "source": [
    "import numpy as np\n",
    "\n",
    "\n",
    "class Answer:\n",
    "    def TransformMatrix(self, A, B):\n",
    "        # v2\n",
    "        A = A.reshape(-1, 2)\n",
    "        B = B.reshape(2, -1)\n",
    "        C = np.ones_like(B)\n",
    "        return np.dot(A, (C + B)).T * 100\n",
    "\n",
    "        # v1\n",
    "        # print(A, A.shape)\n",
    "        # print(B, B.shape)\n",
    "        A = A.reshape(-1, 2)\n",
    "        B = B.reshape(2, -1)\n",
    "        # print(A, A.shape)\n",
    "        # print(B, B.shape)\n",
    "        C = np.ones_like(B)\n",
    "        # print(C, C.shape)\n",
    "        p2_sum = C + B\n",
    "        # print(p2_sum)\n",
    "        p3 = np.dot(A, p2_sum)\n",
    "        # print(p3)\n",
    "        p4 = p3.T\n",
    "        # print(p4)\n",
    "        p5 = p4 * 100\n",
    "        print(p5)\n",
    "\n",
    "\n",
    "A = np.array([[1, 2, 3, 4], [4, 3, 2, 1], [5, 6, 7, 8], [9, 9, 9, 9]])\n",
    "B = np.array([[1, 2, 3], [1, 2, 3], [1, 2, 3], [1, 2, 3]])\n",
    "print(Answer().TransformMatrix(A, B))\n",
    "# Ответ:\n",
    "# [[ 600 1400 1400  600 2200 3000 3600 3600]\n",
    "#  [ 900 2100 2100  900 3300 4500 5400 5400]\n",
    "#  [1200 2800 2800 1200 4400 6000 7200 7200]\n",
    "#  [ 600 1400 1400  600 2200 3000 3600 3600]\n",
    "#  [ 900 2100 2100  900 3300 4500 5400 5400]\n",
    "#  [1200 2800 2800 1200 4400 6000 7200 7200]]"
   ]
  },
  {
   "cell_type": "markdown",
   "metadata": {},
   "source": [
    "Numpy. ДЗ 2: Умножение матриц с весами\n",
    "Нормальная\n",
    "\n",
    "Дана матрица A размером 4x3 и вектор v размером 3. Кроме того, дан вектор весов w размером 4.\n",
    "\n",
    "Необходимо написать функцию weighted_matrix_vector_multiplication, которая вычисляет взвешенную сумму произведения матрицы A на вектор v, где каждый элемент произведения умножается на соответствующий элемент вектора весов w."
   ]
  },
  {
   "cell_type": "code",
   "execution_count": 275,
   "metadata": {},
   "outputs": [
    {
     "data": {
      "text/plain": [
       "array([[-1.00, -1.00, -1.00, -1.00],\n",
       "       [-0.50, -0.50, -0.50, -0.50],\n",
       "       [-2.00, -2.00, -2.00, -2.00],\n",
       "       [-1.50, -1.50, -1.50, -1.50]])"
      ]
     },
     "execution_count": 275,
     "metadata": {},
     "output_type": "execute_result"
    }
   ],
   "source": [
    "def weighted_matrix_vector_multiplication(A, v, w):\n",
    "    # print(A.shape, v.shape, w.shape)\n",
    "    one = np.inner(A, v)\n",
    "    # print(one, one.shape)\n",
    "    res = np.outer(w, one)\n",
    "    return res\n",
    "\n",
    "\n",
    "A = np.array([[1, 2, 3], [4, 5, 6], [7, 8, 9], [10, 11, 12]])\n",
    "\n",
    "v = np.array([2, 3, 4])\n",
    "w = np.array([0.5, 1, 1.5, 2])\n",
    "weighted_matrix_vector_multiplication(A, v, w)\n",
    "# array([[ 10. ,  23.5,  37. ,  50.5],\n",
    "#        [ 20. ,  47. ,  74. , 101. ],\n",
    "#        [ 30. ,  70.5, 111. , 151.5],\n",
    "#        [ 40. ,  94. , 148. , 202. ]])\n",
    "\n",
    "A = np.array([[1, 2, 3], [4, 5, 6], [7, 8, 9], [10, 11, 12]])\n",
    "v = np.array([0, 1, -1])\n",
    "w = np.array([1, 0.5, 2, 1.5])\n",
    "weighted_matrix_vector_multiplication(A, v, w)"
   ]
  },
  {
   "cell_type": "markdown",
   "metadata": {},
   "source": [
    "Numpy. ДЗ 2: Решение СЛУ\n",
    "Нормальная\n",
    "\n",
    "Напишите функцию solve_linear_equations, которая принимает матрицу коэффициентов A и вектор правой части b в качестве входных данных и находит решение этой системы уравнений.\n",
    "\n",
    "Пример\n",
    "\n",
    "# Допустим есть следующая СЛУ\n",
    "2x + 3y + z = 10\n",
    " x +  y + z =  6\n",
    "3x + 2y + 2z = 12\n",
    "\n",
    "# Матрица коэффициентов будет выглядеть следующим образом:\n",
    "A = np.array([[2, 3, 1],\n",
    "              [1, 1, 1],\n",
    "              [3, 2, 2]])\n",
    "\n",
    "# Вектор правой части:\n",
    "b = np.array([10, 6, 12])\n",
    "\n",
    "solve_linear_equations(A, b)\n",
    "# [1.48029737e-16 2.00000000e+00 4.00000000e+00]"
   ]
  },
  {
   "cell_type": "code",
   "execution_count": 276,
   "metadata": {},
   "outputs": [
    {
     "data": {
      "text/plain": [
       "array([0.00, 2.00, 4.00])"
      ]
     },
     "execution_count": 276,
     "metadata": {},
     "output_type": "execute_result"
    }
   ],
   "source": [
    "def solve_linear_equations(A, b):\n",
    "    return np.linalg.solve(A, b)\n",
    "\n",
    "\n",
    "A = np.array([[2, 3, 1], [1, 1, 1], [3, 2, 2]])\n",
    "b = np.array([10, 6, 12])\n",
    "xyz = solve_linear_equations(A, b)\n",
    "xyz"
   ]
  },
  {
   "cell_type": "markdown",
   "metadata": {},
   "source": [
    "2x + 3y + z = ?\n",
    " x +  y + z =  ?\n",
    "3x + 2y + 2z = ?\n",
    "x,y,z = 1.48029737e-16, 2.00000000e+00, 4.00000000e+00\n",
    "\n",
    "A = np.array([[2, 3, 1], [1, 1, 1], [3, 2, 2]])\n",
    "xyz = np.array([1.48029737e-16, 2.00000000e+00, 4.00000000e+00])"
   ]
  },
  {
   "cell_type": "code",
   "execution_count": 277,
   "metadata": {},
   "outputs": [
    {
     "data": {
      "text/plain": [
       "array([10.00, 6.00, 12.00])"
      ]
     },
     "execution_count": 277,
     "metadata": {},
     "output_type": "execute_result"
    }
   ],
   "source": [
    "def solve_linear_equations(A, xyz):\n",
    "    return np.dot(A, xyz)\n",
    "\n",
    "\n",
    "solve_linear_equations(A, xyz)"
   ]
  },
  {
   "cell_type": "markdown",
   "metadata": {},
   "source": [
    "Numpy. ДЗ 2: Индексация и замена значений\n",
    "Нормальная\n",
    "\n",
    "Дан двумерный массив целых чисел array.\n",
    "\n",
    "Напишите функцию replace_values_with_logic, которая принимает этот массив и заменяет отрицательные значения в массиве на нули, а положительные значения на их квадраты."
   ]
  },
  {
   "cell_type": "code",
   "execution_count": 278,
   "metadata": {},
   "outputs": [
    {
     "name": "stdout",
     "output_type": "stream",
     "text": [
      "[[ 4  0 16]\n",
      " [ 0 25  0]\n",
      " [49 64  0]]\n"
     ]
    }
   ],
   "source": [
    "import numpy as np\n",
    "\n",
    "\n",
    "class Answer:\n",
    "    def replace_values_with_logic(self, arr):\n",
    "        # v1\n",
    "        # return [[0 if n < 0 else n**2 for n in subarr] for subarr in arr]\n",
    "\n",
    "        # v2\n",
    "        return np.where(arr < 0, 0, arr**2)\n",
    "\n",
    "        # v3\n",
    "        positive_mask = array > 0\n",
    "        negative_mask = array < 0\n",
    "\n",
    "        array[positive_mask] = np.square(array[positive_mask])\n",
    "        array[negative_mask] = 0\n",
    "\n",
    "\n",
    "array = np.array([[2, -3, 4], [-1, 5, -6], [7, 8, -9]])\n",
    "print(Answer().replace_values_with_logic(array))"
   ]
  },
  {
   "cell_type": "markdown",
   "metadata": {},
   "source": [
    "Numpy. ДЗ 2: Копирование массива и поиск элементов по условиям\n",
    "Нормальная\n",
    "\n",
    "Вам на вход подается матрица A произвольного размера.\n",
    "\n",
    "Для начала, необходимо создать матрицу B, которая является копией матрицы A.\n",
    "\n",
    "Примечание: При этом при изменении матрицы A, матрица B должна остаться неизменной.\n",
    "\n",
    "После этого необходимо транспонировать матрицу A.\n",
    "\n",
    "В конце необходимо найти и отобрать только те элементы матрицы A, которые больше 7 или меньше 2, вне зависимости от размерности.\n",
    "\n",
    "Задание\n",
    "Напишите функцию CopyAndSelect, которая будет возвращать:\n",
    "\n",
    "матрицу B\n",
    "матрицу A\n",
    "массив отобранных значений\n",
    "Функция CopyAndSelect принимает на вход матрицу A."
   ]
  },
  {
   "cell_type": "code",
   "execution_count": 279,
   "metadata": {},
   "outputs": [
    {
     "name": "stdout",
     "output_type": "stream",
     "text": [
      "[-1.0, -3.0, 8.0, -6.0, -9.0]\n"
     ]
    }
   ],
   "source": [
    "import numpy as np\n",
    "\n",
    "\n",
    "class Answer:\n",
    "    def CopyAndSelect(self, arr):\n",
    "        A = arr\n",
    "        B = A.copy()\n",
    "        A = A.T\n",
    "        # v1\n",
    "        # mask = (A > 7) | (A < 2)\n",
    "        # return A[mask], A, B\n",
    "\n",
    "        # v2\n",
    "        result = np.where((A > 7) | (A < 2), A, np.nan)\n",
    "        return result[~np.isnan(result)].tolist()\n",
    "\n",
    "\n",
    "array = np.array([[2, -3, 4], [-1, 5, -6], [7, 8, -9]])\n",
    "print(Answer().CopyAndSelect(array))"
   ]
  },
  {
   "cell_type": "markdown",
   "metadata": {},
   "source": [
    "Numpy. ДЗ 2: Логическое объединение массивов\n",
    "Нормальная\n",
    "\n",
    "Даны два одномерных массива булевых значений одинаковой длины.\n",
    "\n",
    "Напишите функцию logical_or_arrays, которая принимает два массива и создает новый массив, содержащий элементы, которые являются результатом логического ИЛИ для соответствующих элементов исходных массивов."
   ]
  },
  {
   "cell_type": "code",
   "execution_count": 280,
   "metadata": {},
   "outputs": [
    {
     "name": "stdout",
     "output_type": "stream",
     "text": [
      "[ True  True  True False  True]\n"
     ]
    }
   ],
   "source": [
    "import numpy as np\n",
    "\n",
    "\n",
    "def logical_or_arrays(arr1: bool, arr2: bool):\n",
    "    # v1 classic lc\n",
    "    # zipped = zip(arr1, arr2)\n",
    "    # return [x or y for x, y in zipped]\n",
    "\n",
    "    # v2\n",
    "    return arr1 | arr2\n",
    "\n",
    "\n",
    "array1 = np.array([True, False, True, False, True])\n",
    "array2 = np.array([False, True, True, False, False])\n",
    "\n",
    "print(logical_or_arrays(array1, array2))\n",
    "# array([ True,  True,  True, False,  True])"
   ]
  },
  {
   "cell_type": "markdown",
   "metadata": {},
   "source": [
    "Numpy. ДЗ 2: Случайные числа и плоские массивы\n",
    "Нормальная\n",
    "\n",
    "Вам на вход подаются число num.\n",
    "\n",
    "Для начала, необходимо сгенерировать массив Numpy a, состоящий из num случайных чисел.\n",
    "\n",
    "Далее необходимо сгенерировать массив b, также размерности num, но состоящий из случайных целых чисел.\n",
    "\n",
    "Примечание: Числа должны лежать в диапазоне 1:10.\n",
    "\n",
    "После этого необходимо создать матрицу C, которая является результатом матричного умножения a на b (т.е. результатом должна быть матрица размерности num*num).\n",
    "\n",
    "В конце создайте массив d, который будет равен «плоской» версии матрицы C - т.е. все измерения будут приведены к 1 строке.\n",
    "\n",
    "Важно: Постарайтесь не использовать функцию reshape для уплощения матрицы - воспользуйтесь другими методами.\n",
    "\n",
    "Задание\n",
    "Напишите функцию RandomFlatten, которая будет возвращать:\n",
    "\n",
    "массив a\n",
    "массив b\n",
    "матрицу C\n",
    "плоскую версию матрицы C\n",
    "Функция RandomFlatten принимает на вход число num."
   ]
  },
  {
   "cell_type": "code",
   "execution_count": 281,
   "metadata": {},
   "outputs": [
    {
     "name": "stdout",
     "output_type": "stream",
     "text": [
      "(array([1.25, 1.17, 0.73]), array([6, 7, 5]), array([[7.49, 8.73, 6.24],\n",
      "       [7.01, 8.18, 5.84],\n",
      "       [4.37, 5.10, 3.65]]), array([7.49, 8.73, 6.24, 7.01, 8.18, 5.84, 4.37, 5.10, 3.65]))\n"
     ]
    }
   ],
   "source": [
    "import numpy as np\n",
    "\n",
    "\n",
    "class Answer:\n",
    "    def RandomFlatten(self, num):\n",
    "        a = np.random.randn(num)\n",
    "        b = np.random.randint(1, 10, num)\n",
    "        # print(a, b)\n",
    "        C = np.outer(a, b)\n",
    "        # print(c)\n",
    "        d = C.copy().flatten()\n",
    "        return a, b, C, d\n",
    "\n",
    "\n",
    "print(Answer().RandomFlatten(3))"
   ]
  },
  {
   "cell_type": "markdown",
   "metadata": {},
   "source": [
    "Numpy. ДЗ 2: Симуляция случайной выборки\n",
    "Нормальная\n",
    "\n",
    "У вас есть массив данных data, представляющих оценки студентов по некоторому предмету.\n",
    "\n",
    "Вам необходимо написать функцию random_sample(data, k), которая будет случайным образом выбирать подмножество оценок заданного размера K из данного массива данных data."
   ]
  },
  {
   "cell_type": "code",
   "execution_count": 282,
   "metadata": {},
   "outputs": [
    {
     "name": "stdout",
     "output_type": "stream",
     "text": [
      "[70 70 92]\n"
     ]
    }
   ],
   "source": [
    "def random_sample(data, k):\n",
    "    return np.random.choice(data, size=k)\n",
    "\n",
    "\n",
    "grades = np.array([85, 92, 78, 90, 88, 76, 95, 89, 82, 70])\n",
    "print(random_sample(grades, 3))\n",
    "# [92 70 90]\n",
    "# не стоит ориентироваться именно на эти числа в выборке. Ведь каждый раз они будут разными"
   ]
  },
  {
   "cell_type": "markdown",
   "metadata": {},
   "source": [
    "Итоговый практический кейс по numpy:"
   ]
  },
  {
   "cell_type": "code",
   "execution_count": 283,
   "metadata": {},
   "outputs": [
    {
     "data": {
      "text/plain": [
       "array([[2016.00, 1.00, 1.00, 5.00, 0.00, 2.00, 4.00, 21.00, 2037.00,\n",
       "        52.00, 0.80, 5.54, 11.65, 69.99, 1.00],\n",
       "       [2016.00, 1.00, 1.00, 5.00, 0.00, 2.00, 1.00, 16.29, 1520.00,\n",
       "        45.00, 1.30, 0.00, 8.00, 54.30, 1.00],\n",
       "       [2016.00, 1.00, 1.00, 5.00, 0.00, 2.00, 6.00, 12.70, 1462.00,\n",
       "        36.50, 1.30, 0.00, 0.00, 37.80, 2.00]])"
      ]
     },
     "execution_count": 283,
     "metadata": {},
     "output_type": "execute_result"
    }
   ],
   "source": [
    "data = np.genfromtxt(\"data.csv\", delimiter=\",\", skip_header=True)\n",
    "\n",
    "flf = \"{:.2f}\".format\n",
    "np.set_printoptions(formatter={\"float_kind\": flf})\n",
    "\n",
    "data[:3]"
   ]
  },
  {
   "cell_type": "markdown",
   "metadata": {},
   "source": [
    "Calc average speed"
   ]
  },
  {
   "cell_type": "code",
   "execution_count": 284,
   "metadata": {},
   "outputs": [
    {
     "data": {
      "text/plain": [
       "32.24258580925573"
      ]
     },
     "execution_count": 284,
     "metadata": {},
     "output_type": "execute_result"
    }
   ],
   "source": [
    "distances_arr = data[:, 7]\n",
    "durations_arr = data[:, 8] / 3600\n",
    "\n",
    "speed_arr = distances_arr / durations_arr\n",
    "speed_arr.mean()"
   ]
  },
  {
   "cell_type": "markdown",
   "metadata": {},
   "source": [
    "Amount rides in february"
   ]
  },
  {
   "cell_type": "code",
   "execution_count": 285,
   "metadata": {},
   "outputs": [
    {
     "data": {
      "text/plain": [
       "13333"
      ]
     },
     "execution_count": 285,
     "metadata": {},
     "output_type": "execute_result"
    }
   ],
   "source": [
    "mask = data[:, 1] == 2\n",
    "data[mask].shape[0]"
   ]
  },
  {
   "cell_type": "markdown",
   "metadata": {},
   "source": [
    "Amount rides where tips more than 50 dollars"
   ]
  },
  {
   "cell_type": "code",
   "execution_count": 286,
   "metadata": {},
   "outputs": [
    {
     "data": {
      "text/plain": [
       "16"
      ]
     },
     "execution_count": 286,
     "metadata": {},
     "output_type": "execute_result"
    }
   ],
   "source": [
    "data[data[:, -3] > 50].shape[0]"
   ]
  },
  {
   "cell_type": "markdown",
   "metadata": {},
   "source": [
    "evaluate the relationship between variables"
   ]
  },
  {
   "cell_type": "code",
   "execution_count": 292,
   "metadata": {},
   "outputs": [
    {
     "data": {
      "text/plain": [
       "array([[26.71, 3413.20, 68.19],\n",
       "       [3413.20, 10489667.24, 11345.40],\n",
       "       [68.19, 11345.40, 269.92]])"
      ]
     },
     "execution_count": 292,
     "metadata": {},
     "output_type": "execute_result"
    }
   ],
   "source": [
    "np.cov(data[:, [7, 8, -2]].T)"
   ]
  },
  {
   "cell_type": "code",
   "execution_count": 291,
   "metadata": {},
   "outputs": [
    {
     "data": {
      "text/plain": [
       "array([[1.00, 0.20, 0.80],\n",
       "       [0.20, 1.00, 0.21],\n",
       "       [0.80, 0.21, 1.00]])"
      ]
     },
     "execution_count": 291,
     "metadata": {},
     "output_type": "execute_result"
    }
   ],
   "source": [
    "np.corrcoef(data[:, [7, 8, -2]].T)"
   ]
  }
 ],
 "metadata": {
  "kernelspec": {
   "display_name": "Python 3",
   "language": "python",
   "name": "python3"
  },
  "language_info": {
   "codemirror_mode": {
    "name": "ipython",
    "version": 3
   },
   "file_extension": ".py",
   "mimetype": "text/x-python",
   "name": "python",
   "nbconvert_exporter": "python",
   "pygments_lexer": "ipython3",
   "version": "3.12.0"
  }
 },
 "nbformat": 4,
 "nbformat_minor": 2
}
